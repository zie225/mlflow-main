{
 "cells": [
  {
   "cell_type": "markdown",
   "id": "11636748",
   "metadata": {},
   "source": [
    "## MLFlow Model Serving - MLFlow 2.0.1"
   ]
  },
  {
   "cell_type": "markdown",
   "id": "95e71883",
   "metadata": {},
   "source": [
    "#### Topics Covered:\n",
    "\n",
    "* Conda Environment Creation\n",
    "* Model training important steps written as python function\n",
    "* Train basic classifier and log it as a experiment\n",
    "\n",
    "\n",
    "* Different methods to register ML model in MLFlow Registry\n",
    "* Transition Model stage : None(default), Staging, Production or Archived\n",
    "* Load Model from MLflow Registry and do Prediction\n",
    "* Model Serving - Serving an ML Model from MLFlow Model Registry\n",
    "\n",
    "will see how to log various paramets, model metrics, model itself and other aertifacts like charts etc. \n",
    "\n",
    "**Explanation with live demo is also available at :**\n",
    "\n",
    "* **MLFlow Part 1: Experiment Tracking using MLFlow -  https://www.youtube.com/watch?v=r0do1KVEGqM**\n",
    "\n",
    "* **MLFlow Part 2: Model Serving from MLFlow Model Registry - URL you are watching**"
   ]
  },
  {
   "cell_type": "markdown",
   "id": "73f2e54f",
   "metadata": {},
   "source": [
    "<img src='mlflow.png'>"
   ]
  },
  {
   "cell_type": "markdown",
   "id": "b11e0550",
   "metadata": {},
   "source": [
    "### Create Conda environment\n",
    "\n",
    "1. `conda create -n envname python=3.9 ipykernel` \n",
    "it will create a conda env named envname and install python version 3.9 and a ipykernel inside this environment\n",
    "\n",
    "2. Activate the environment\n",
    "`conda activate envname`\n",
    "\n",
    "3. add newly created environment to the notebook as kernel\n",
    "`python -m ipykernel install --user --name=envname` \n",
    "\n",
    "4. install notebook inside the environment\n",
    "`pip install notebook`\n",
    "\n",
    "5. Now install all required dependencies to run this notebook\n",
    "\n",
    "* `pip install pandas`\n",
    "* `pip install numpy`\n",
    "* `pip install scikit-learn`\n",
    "* `pip install matplotlib`\n",
    "* `pip install mlflow`\n",
    "\n",
    "Now open the notebook using below command: (from the anaconda prompt inside conda environment)\n",
    "\n",
    "`jupyter notebook`\n"
   ]
  },
  {
   "cell_type": "code",
   "execution_count": 1,
   "id": "cfa8fea8",
   "metadata": {},
   "outputs": [
    {
     "name": "stdout",
     "output_type": "stream",
     "text": [
      "mlflow, version 2.0.1\n"
     ]
    }
   ],
   "source": [
    "!mlflow --version"
   ]
  },
  {
   "cell_type": "markdown",
   "id": "e42394d9",
   "metadata": {},
   "source": [
    "### Create functions for all the steps involved in complete model training lifecycle\n",
    "Note: Model creation is not the main purpose of this notebook so not everything related to data cleaning and preprocissing is present. Main idea is to understand how to track experiment using MLFlow."
   ]
  },
  {
   "cell_type": "code",
   "execution_count": 2,
   "id": "c8185d5b",
   "metadata": {},
   "outputs": [],
   "source": [
    "def load_data(url):\n",
    "    import pandas as pd\n",
    "    # Load dataset\n",
    "    data = pd.read_csv(filepath_or_buffer=url,sep=',')\n",
    "    return data"
   ]
  },
  {
   "cell_type": "code",
   "execution_count": 3,
   "id": "75479a21",
   "metadata": {},
   "outputs": [],
   "source": [
    "def train_test_split(final_data,target_column):\n",
    "    from sklearn.model_selection import train_test_split\n",
    "    X = final_data.loc[:, final_data.columns != target_column]\n",
    "    y = final_data.loc[:, final_data.columns == target_column]\n",
    "    \n",
    "    X_train, X_test, y_train, y_test = train_test_split(X, y, test_size=0.3,stratify = y, random_state=47)\n",
    "    return X_train, X_test, y_train, y_test"
   ]
  },
  {
   "cell_type": "code",
   "execution_count": 4,
   "id": "5825d668",
   "metadata": {},
   "outputs": [],
   "source": [
    "def training_basic_classifier(X_train,y_train):\n",
    "    from sklearn.linear_model import LogisticRegression\n",
    "    classifier = LogisticRegression()\n",
    "    classifier.fit(X_train,y_train)\n",
    "    \n",
    "    return classifier"
   ]
  },
  {
   "cell_type": "code",
   "execution_count": 5,
   "id": "c34747b2",
   "metadata": {},
   "outputs": [],
   "source": [
    "def predict_on_test_data(model,X_test):\n",
    "    y_pred = model.predict(X_test)\n",
    "    return y_pred"
   ]
  },
  {
   "cell_type": "code",
   "execution_count": 6,
   "id": "2087986e",
   "metadata": {},
   "outputs": [],
   "source": [
    "def predict_prob_on_test_data(model,X_test):\n",
    "    y_pred = model.predict_proba(X_test)\n",
    "    return y_pred"
   ]
  },
  {
   "cell_type": "code",
   "execution_count": 7,
   "id": "3ac32a7c",
   "metadata": {},
   "outputs": [],
   "source": [
    "def get_metrics(y_true, y_pred, y_pred_prob):\n",
    "    from sklearn.metrics import accuracy_score,precision_score,recall_score,log_loss\n",
    "    acc = accuracy_score(y_true, y_pred)\n",
    "    prec = precision_score(y_true, y_pred,average='micro')\n",
    "    recall = recall_score(y_true, y_pred,average='micro')\n",
    "    entropy = log_loss(y_true, y_pred_prob)\n",
    "    return {'accuracy': round(acc, 2), 'precision': round(prec, 2), 'recall': round(recall, 2), 'entropy': round(entropy, 2)}"
   ]
  },
  {
   "cell_type": "code",
   "execution_count": 8,
   "id": "f767837c",
   "metadata": {},
   "outputs": [],
   "source": [
    "def create_roc_auc_plot(clf, X_data, y_data):\n",
    "    import matplotlib.pyplot as plt\n",
    "    from sklearn import metrics\n",
    "    metrics.plot_roc_curve(clf, X_data, y_data) \n",
    "    plt.savefig('roc_auc_curve.png')"
   ]
  },
  {
   "cell_type": "code",
   "execution_count": 9,
   "id": "83ae255b",
   "metadata": {},
   "outputs": [],
   "source": [
    "def create_confusion_matrix_plot(clf, X_test, y_test):\n",
    "    import matplotlib.pyplot as plt\n",
    "    from sklearn.metrics import plot_confusion_matrix\n",
    "    plot_confusion_matrix(clf, X_test, y_test)\n",
    "    plt.savefig('confusion_matrix.png')"
   ]
  },
  {
   "cell_type": "markdown",
   "id": "0b696d16",
   "metadata": {},
   "source": [
    "### Start calling above functions one by one and see the output"
   ]
  },
  {
   "cell_type": "markdown",
   "id": "bf35cdd5",
   "metadata": {},
   "source": [
    "**Data Loading**"
   ]
  },
  {
   "cell_type": "code",
   "execution_count": 10,
   "id": "c828739b",
   "metadata": {},
   "outputs": [
    {
     "data": {
      "text/html": [
       "<div>\n",
       "<style scoped>\n",
       "    .dataframe tbody tr th:only-of-type {\n",
       "        vertical-align: middle;\n",
       "    }\n",
       "\n",
       "    .dataframe tbody tr th {\n",
       "        vertical-align: top;\n",
       "    }\n",
       "\n",
       "    .dataframe thead th {\n",
       "        text-align: right;\n",
       "    }\n",
       "</style>\n",
       "<table border=\"1\" class=\"dataframe\">\n",
       "  <thead>\n",
       "    <tr style=\"text-align: right;\">\n",
       "      <th></th>\n",
       "      <th>sepal-length</th>\n",
       "      <th>sepal-width</th>\n",
       "      <th>petal-length</th>\n",
       "      <th>petal-width</th>\n",
       "      <th>class</th>\n",
       "    </tr>\n",
       "  </thead>\n",
       "  <tbody>\n",
       "    <tr>\n",
       "      <th>0</th>\n",
       "      <td>5.1</td>\n",
       "      <td>3.5</td>\n",
       "      <td>1.4</td>\n",
       "      <td>0.2</td>\n",
       "      <td>Iris-setosa</td>\n",
       "    </tr>\n",
       "    <tr>\n",
       "      <th>1</th>\n",
       "      <td>4.9</td>\n",
       "      <td>3.0</td>\n",
       "      <td>1.4</td>\n",
       "      <td>0.2</td>\n",
       "      <td>Iris-setosa</td>\n",
       "    </tr>\n",
       "    <tr>\n",
       "      <th>2</th>\n",
       "      <td>4.7</td>\n",
       "      <td>3.2</td>\n",
       "      <td>1.3</td>\n",
       "      <td>0.2</td>\n",
       "      <td>Iris-setosa</td>\n",
       "    </tr>\n",
       "    <tr>\n",
       "      <th>3</th>\n",
       "      <td>4.6</td>\n",
       "      <td>3.1</td>\n",
       "      <td>1.5</td>\n",
       "      <td>0.2</td>\n",
       "      <td>Iris-setosa</td>\n",
       "    </tr>\n",
       "    <tr>\n",
       "      <th>4</th>\n",
       "      <td>5.0</td>\n",
       "      <td>3.6</td>\n",
       "      <td>1.4</td>\n",
       "      <td>0.2</td>\n",
       "      <td>Iris-setosa</td>\n",
       "    </tr>\n",
       "  </tbody>\n",
       "</table>\n",
       "</div>"
      ],
      "text/plain": [
       "   sepal-length  sepal-width  petal-length  petal-width        class\n",
       "0           5.1          3.5           1.4          0.2  Iris-setosa\n",
       "1           4.9          3.0           1.4          0.2  Iris-setosa\n",
       "2           4.7          3.2           1.3          0.2  Iris-setosa\n",
       "3           4.6          3.1           1.5          0.2  Iris-setosa\n",
       "4           5.0          3.6           1.4          0.2  Iris-setosa"
      ]
     },
     "execution_count": 10,
     "metadata": {},
     "output_type": "execute_result"
    }
   ],
   "source": [
    "url = 'https://raw.githubusercontent.com/TripathiAshutosh/dataset/main/iris.csv'\n",
    "data = load_data(url)\n",
    "data.head()"
   ]
  },
  {
   "cell_type": "markdown",
   "id": "1c8c56ed",
   "metadata": {},
   "source": [
    "**Train-Test Split**"
   ]
  },
  {
   "cell_type": "code",
   "execution_count": 11,
   "id": "31cc680a",
   "metadata": {},
   "outputs": [],
   "source": [
    "target_column = 'class'\n",
    "X_train, X_test, y_train, y_test = train_test_split(data, target_column)"
   ]
  },
  {
   "cell_type": "code",
   "execution_count": 12,
   "id": "875b89a6",
   "metadata": {},
   "outputs": [
    {
     "data": {
      "text/html": [
       "<div>\n",
       "<style scoped>\n",
       "    .dataframe tbody tr th:only-of-type {\n",
       "        vertical-align: middle;\n",
       "    }\n",
       "\n",
       "    .dataframe tbody tr th {\n",
       "        vertical-align: top;\n",
       "    }\n",
       "\n",
       "    .dataframe thead th {\n",
       "        text-align: right;\n",
       "    }\n",
       "</style>\n",
       "<table border=\"1\" class=\"dataframe\">\n",
       "  <thead>\n",
       "    <tr style=\"text-align: right;\">\n",
       "      <th></th>\n",
       "      <th>sepal-length</th>\n",
       "      <th>sepal-width</th>\n",
       "      <th>petal-length</th>\n",
       "      <th>petal-width</th>\n",
       "    </tr>\n",
       "  </thead>\n",
       "  <tbody>\n",
       "    <tr>\n",
       "      <th>26</th>\n",
       "      <td>5.0</td>\n",
       "      <td>3.4</td>\n",
       "      <td>1.6</td>\n",
       "      <td>0.4</td>\n",
       "    </tr>\n",
       "    <tr>\n",
       "      <th>41</th>\n",
       "      <td>4.5</td>\n",
       "      <td>2.3</td>\n",
       "      <td>1.3</td>\n",
       "      <td>0.3</td>\n",
       "    </tr>\n",
       "    <tr>\n",
       "      <th>49</th>\n",
       "      <td>5.0</td>\n",
       "      <td>3.3</td>\n",
       "      <td>1.4</td>\n",
       "      <td>0.2</td>\n",
       "    </tr>\n",
       "    <tr>\n",
       "      <th>44</th>\n",
       "      <td>5.1</td>\n",
       "      <td>3.8</td>\n",
       "      <td>1.9</td>\n",
       "      <td>0.4</td>\n",
       "    </tr>\n",
       "    <tr>\n",
       "      <th>141</th>\n",
       "      <td>6.9</td>\n",
       "      <td>3.1</td>\n",
       "      <td>5.1</td>\n",
       "      <td>2.3</td>\n",
       "    </tr>\n",
       "  </tbody>\n",
       "</table>\n",
       "</div>"
      ],
      "text/plain": [
       "     sepal-length  sepal-width  petal-length  petal-width\n",
       "26            5.0          3.4           1.6          0.4\n",
       "41            4.5          2.3           1.3          0.3\n",
       "49            5.0          3.3           1.4          0.2\n",
       "44            5.1          3.8           1.9          0.4\n",
       "141           6.9          3.1           5.1          2.3"
      ]
     },
     "execution_count": 12,
     "metadata": {},
     "output_type": "execute_result"
    }
   ],
   "source": [
    "X_test.head()"
   ]
  },
  {
   "cell_type": "markdown",
   "id": "4d214353",
   "metadata": {},
   "source": [
    "**Model Training** (Basic classifier, as here idea is not to create the best model however focus is on MLFlow model serving)"
   ]
  },
  {
   "cell_type": "code",
   "execution_count": 13,
   "id": "503cd606",
   "metadata": {},
   "outputs": [
    {
     "name": "stderr",
     "output_type": "stream",
     "text": [
      "C:\\Users\\Ashutosh Tripathi\\anaconda3\\envs\\mlflow2.0\\lib\\site-packages\\sklearn\\utils\\validation.py:1111: DataConversionWarning: A column-vector y was passed when a 1d array was expected. Please change the shape of y to (n_samples, ), for example using ravel().\n",
      "  y = column_or_1d(y, warn=True)\n",
      "C:\\Users\\Ashutosh Tripathi\\anaconda3\\envs\\mlflow2.0\\lib\\site-packages\\sklearn\\linear_model\\_logistic.py:444: ConvergenceWarning: lbfgs failed to converge (status=1):\n",
      "STOP: TOTAL NO. of ITERATIONS REACHED LIMIT.\n",
      "\n",
      "Increase the number of iterations (max_iter) or scale the data as shown in:\n",
      "    https://scikit-learn.org/stable/modules/preprocessing.html\n",
      "Please also refer to the documentation for alternative solver options:\n",
      "    https://scikit-learn.org/stable/modules/linear_model.html#logistic-regression\n",
      "  n_iter_i = _check_optimize_result(\n"
     ]
    }
   ],
   "source": [
    "model = training_basic_classifier(X_train,y_train)"
   ]
  },
  {
   "cell_type": "markdown",
   "id": "3b8ddc26",
   "metadata": {},
   "source": [
    "**See the prediction outcome**"
   ]
  },
  {
   "cell_type": "code",
   "execution_count": 14,
   "id": "11b650dc",
   "metadata": {
    "scrolled": true
   },
   "outputs": [
    {
     "name": "stdout",
     "output_type": "stream",
     "text": [
      "['Iris-setosa' 'Iris-setosa' 'Iris-setosa' 'Iris-setosa' 'Iris-virginica'\n",
      " 'Iris-virginica' 'Iris-versicolor' 'Iris-virginica' 'Iris-versicolor'\n",
      " 'Iris-versicolor' 'Iris-virginica' 'Iris-versicolor' 'Iris-virginica'\n",
      " 'Iris-setosa' 'Iris-setosa' 'Iris-virginica' 'Iris-setosa'\n",
      " 'Iris-versicolor' 'Iris-versicolor' 'Iris-versicolor' 'Iris-versicolor'\n",
      " 'Iris-virginica' 'Iris-virginica' 'Iris-setosa' 'Iris-setosa'\n",
      " 'Iris-virginica' 'Iris-versicolor' 'Iris-setosa' 'Iris-versicolor'\n",
      " 'Iris-virginica' 'Iris-setosa' 'Iris-virginica' 'Iris-setosa'\n",
      " 'Iris-setosa' 'Iris-setosa' 'Iris-setosa' 'Iris-virginica'\n",
      " 'Iris-virginica' 'Iris-virginica' 'Iris-versicolor' 'Iris-versicolor'\n",
      " 'Iris-virginica' 'Iris-virginica' 'Iris-versicolor' 'Iris-versicolor']\n",
      "[[9.60711333e-01 3.92876679e-02 9.99542796e-07]\n",
      " [9.34724656e-01 6.52747435e-02 6.00175464e-07]\n",
      " [9.70976219e-01 2.90235221e-02 2.59059042e-07]\n",
      " [9.54951169e-01 4.50463478e-02 2.48359682e-06]\n",
      " [1.74767542e-04 1.08008426e-01 8.91816806e-01]\n",
      " [1.59375139e-05 8.15780620e-02 9.18406000e-01]\n",
      " [3.56916579e-03 7.13577897e-01 2.82852937e-01]\n",
      " [4.31119002e-04 1.90639264e-01 8.08929617e-01]\n",
      " [8.31833130e-03 8.65308439e-01 1.26373230e-01]\n",
      " [1.95042012e-02 8.41138744e-01 1.39357055e-01]\n",
      " [2.92600763e-05 4.04458191e-02 9.59524921e-01]\n",
      " [7.76674202e-03 8.63213988e-01 1.29019270e-01]\n",
      " [7.45159290e-04 3.66600597e-01 6.32654244e-01]\n",
      " [9.67670071e-01 3.23295820e-02 3.46821583e-07]\n",
      " [9.77121176e-01 2.28786276e-02 1.96866643e-07]\n",
      " [1.69528502e-07 8.50895706e-03 9.91490873e-01]\n",
      " [9.59229087e-01 4.07705570e-02 3.56042358e-07]\n",
      " [1.76260313e-03 6.28524125e-01 3.69713272e-01]\n",
      " [1.09462582e-02 7.09577270e-01 2.79476472e-01]\n",
      " [7.39317994e-03 7.51502851e-01 2.41103969e-01]\n",
      " [1.24078395e-02 6.89893382e-01 2.97698779e-01]\n",
      " [4.05257828e-04 2.82997585e-01 7.16597157e-01]\n",
      " [1.39456786e-04 2.39795991e-01 7.60064552e-01]\n",
      " [9.68947253e-01 3.10523857e-02 3.61454020e-07]\n",
      " [9.39851051e-01 6.01465627e-02 2.38627373e-06]\n",
      " [5.86315039e-06 1.59335684e-02 9.84060568e-01]\n",
      " [6.49201083e-04 5.19484624e-01 4.79866175e-01]\n",
      " [9.75257813e-01 2.47419276e-02 2.59184136e-07]\n",
      " [1.83911317e-03 7.42272320e-01 2.55888567e-01]\n",
      " [9.33396845e-04 4.20264793e-01 5.78801811e-01]\n",
      " [9.76405948e-01 2.35936854e-02 3.66063927e-07]\n",
      " [8.57153849e-05 3.81546003e-02 9.61759684e-01]\n",
      " [9.85827258e-01 1.41725799e-02 1.62161976e-07]\n",
      " [9.81005539e-01 1.89941885e-02 2.72499943e-07]\n",
      " [9.64717439e-01 3.52809871e-02 1.57365334e-06]\n",
      " [9.61553912e-01 3.84456279e-02 4.60099693e-07]\n",
      " [1.39803123e-05 2.68150389e-02 9.73170981e-01]\n",
      " [7.56788327e-04 2.31704099e-01 7.67539113e-01]\n",
      " [1.56797303e-05 2.44383426e-02 9.75545978e-01]\n",
      " [2.55396645e-02 9.01544415e-01 7.29159202e-02]\n",
      " [4.40224705e-02 8.86364066e-01 6.96134634e-02]\n",
      " [2.31598675e-06 3.07021649e-02 9.69295519e-01]\n",
      " [4.09650462e-05 1.45980792e-01 8.53978243e-01]\n",
      " [2.12557408e-02 9.38001581e-01 4.07426780e-02]\n",
      " [3.96522288e-02 9.47648996e-01 1.26987753e-02]]\n"
     ]
    }
   ],
   "source": [
    "y_pred = predict_on_test_data(model,X_test)\n",
    "print(y_pred)\n",
    "y_pred_prob = predict_prob_on_test_data(model,X_test)\n",
    "print(y_pred_prob)"
   ]
  },
  {
   "cell_type": "markdown",
   "id": "8ac3d8ab",
   "metadata": {},
   "source": [
    "**print some metrics**"
   ]
  },
  {
   "cell_type": "code",
   "execution_count": 15,
   "id": "12c013fa",
   "metadata": {},
   "outputs": [],
   "source": [
    "run_metrics = get_metrics(y_test, y_pred, y_pred_prob)"
   ]
  },
  {
   "cell_type": "code",
   "execution_count": 16,
   "id": "472e4c77",
   "metadata": {},
   "outputs": [
    {
     "data": {
      "text/plain": [
       "{'accuracy': 0.93, 'precision': 0.93, 'recall': 0.93, 'entropy': 0.17}"
      ]
     },
     "execution_count": 16,
     "metadata": {},
     "output_type": "execute_result"
    }
   ],
   "source": [
    "run_metrics"
   ]
  },
  {
   "cell_type": "markdown",
   "id": "034ad9f6",
   "metadata": {},
   "source": [
    "**Generate Confusion Matrix**"
   ]
  },
  {
   "cell_type": "code",
   "execution_count": 17,
   "id": "90ca5866",
   "metadata": {},
   "outputs": [
    {
     "name": "stderr",
     "output_type": "stream",
     "text": [
      "C:\\Users\\Ashutosh Tripathi\\anaconda3\\envs\\mlflow2.0\\lib\\site-packages\\sklearn\\utils\\deprecation.py:87: FutureWarning: Function plot_confusion_matrix is deprecated; Function `plot_confusion_matrix` is deprecated in 1.0 and will be removed in 1.2. Use one of the class methods: ConfusionMatrixDisplay.from_predictions or ConfusionMatrixDisplay.from_estimator.\n",
      "  warnings.warn(msg, category=FutureWarning)\n"
     ]
    },
    {
     "data": {
      "image/png": "[encoded data removed]",
      "text/plain": [
       "<Figure size 640x480 with 2 Axes>"
      ]
     },
     "metadata": {},
     "output_type": "display_data"
    }
   ],
   "source": [
    "create_confusion_matrix_plot(model, X_test, y_test)"
   ]
  },
  {
   "cell_type": "markdown",
   "id": "6d82507c",
   "metadata": {},
   "source": [
    "### Define create_experiment function to track your model experiment within MLFlow"
   ]
  },
  {
   "cell_type": "code",
   "execution_count": 18,
   "id": "ecf5d174",
   "metadata": {},
   "outputs": [],
   "source": [
    "def create_experiment(experiment_name,run_name, run_metrics,model, confusion_matrix_path = None, \n",
    "                      roc_auc_plot_path = None, run_params=None):\n",
    "    import mlflow\n",
    "    #mlflow.set_tracking_uri(\"http://localhost:5000\") \n",
    "    #use above line if you want to use any database like sqlite as backend storage for model else comment this line\n",
    "    mlflow.set_experiment(experiment_name)\n",
    "    \n",
    "    with mlflow.start_run(run_name=run_name):\n",
    "        \n",
    "        if not run_params == None:\n",
    "            for param in run_params:\n",
    "                mlflow.log_param(param, run_params[param])\n",
    "            \n",
    "        for metric in run_metrics:\n",
    "            mlflow.log_metric(metric, run_metrics[metric])\n",
    "        \n",
    "        \n",
    "        \n",
    "        if not confusion_matrix_path == None:\n",
    "            mlflow.log_artifact(confusion_matrix_path, 'confusion_materix')\n",
    "            \n",
    "        if not roc_auc_plot_path == None:\n",
    "            mlflow.log_artifact(roc_auc_plot_path, \"roc_auc_plot\")\n",
    "        \n",
    "        mlflow.set_tag(\"tag1\", \"Iris Classifier\")\n",
    "        mlflow.set_tags({\"tag2\":\"Logistic Regression\", \"tag3\":\"Multiclassification using Ovr - One vs rest class\"})\n",
    "        mlflow.sklearn.log_model(model, \"model\")\n",
    "    print('Run - %s is logged to Experiment - %s' %(run_name, experiment_name))"
   ]
  },
  {
   "cell_type": "markdown",
   "id": "2655b4b7",
   "metadata": {},
   "source": [
    "### Start Mlflow server"
   ]
  },
  {
   "cell_type": "markdown",
   "id": "4bfc4eac",
   "metadata": {},
   "source": [
    "**Prefer to run it from command line**\n",
    "\n",
    "`mlflow ui` This will launch mlflow UI in the browser and you can access it using `localhost:5000` but this uses file as backend to store experiments and model artifacts. It does not support model registry functionality. \n",
    "\n",
    "To use model registry, you need to have some backend database other than the file system. Ex mysql, sqlite or any other DB mentioned in mlflow docs under backend storage. Refer: https://www.mlflow.org/docs/latest/tracking.html?highlight=scenario#how-runs-and-artifacts-are-recorded\n",
    "\n",
    "#### In this tutorial , we will use sqlite as backend, so Now run this command to start mlflow with backend.\n",
    "`mlflow server --backend-store-uri sqlite:///mlflow.db --default-artifact-root ./artifacts --host 0.0.0.0 --port 5000`"
   ]
  },
  {
   "cell_type": "markdown",
   "id": "62d1f5ec",
   "metadata": {},
   "source": [
    "**Execute the create_experiment function and log experiment**"
   ]
  },
  {
   "cell_type": "code",
   "execution_count": 19,
   "id": "41ed320e",
   "metadata": {},
   "outputs": [
    {
     "name": "stderr",
     "output_type": "stream",
     "text": [
      "2022/12/05 10:15:52 INFO mlflow.tracking.fluent: Experiment with name 'iris_classifier_05-12-22' does not exist. Creating a new experiment.\n"
     ]
    },
    {
     "name": "stdout",
     "output_type": "stream",
     "text": [
      "Run - iris_classifier_05-12-22 is logged to Experiment - iris_classifier_05-12-22\n"
     ]
    },
    {
     "name": "stderr",
     "output_type": "stream",
     "text": [
      "C:\\Users\\Ashutosh Tripathi\\anaconda3\\envs\\mlflow2.0\\lib\\site-packages\\_distutils_hack\\__init__.py:33: UserWarning: Setuptools is replacing distutils.\n",
      "  warnings.warn(\"Setuptools is replacing distutils.\")\n"
     ]
    }
   ],
   "source": [
    "from datetime import datetime\n",
    "experiment_name = \"iris_classifier_\"+ str(datetime.now().strftime(\"%d-%m-%y\")) ##basic classifier\n",
    "run_name=\"iris_classifier_\"+str(datetime.now().strftime(\"%d-%m-%y\"))\n",
    "create_experiment(experiment_name,run_name,run_metrics,model,'confusion_matrix.png')"
   ]
  },
  {
   "cell_type": "code",
   "execution_count": 20,
   "id": "35482d4f",
   "metadata": {},
   "outputs": [
    {
     "data": {
      "text/plain": [
       "array(['Iris-setosa', 'Iris-setosa', 'Iris-setosa', 'Iris-setosa',\n",
       "       'Iris-virginica', 'Iris-virginica', 'Iris-versicolor',\n",
       "       'Iris-virginica', 'Iris-versicolor', 'Iris-versicolor',\n",
       "       'Iris-virginica', 'Iris-versicolor', 'Iris-virginica',\n",
       "       'Iris-setosa', 'Iris-setosa', 'Iris-virginica', 'Iris-setosa',\n",
       "       'Iris-versicolor', 'Iris-versicolor', 'Iris-versicolor',\n",
       "       'Iris-versicolor', 'Iris-virginica', 'Iris-virginica',\n",
       "       'Iris-setosa', 'Iris-setosa', 'Iris-virginica', 'Iris-versicolor',\n",
       "       'Iris-setosa', 'Iris-versicolor', 'Iris-virginica', 'Iris-setosa',\n",
       "       'Iris-virginica', 'Iris-setosa', 'Iris-setosa', 'Iris-setosa',\n",
       "       'Iris-setosa', 'Iris-virginica', 'Iris-virginica',\n",
       "       'Iris-virginica', 'Iris-versicolor', 'Iris-versicolor',\n",
       "       'Iris-virginica', 'Iris-virginica', 'Iris-versicolor',\n",
       "       'Iris-versicolor'], dtype=object)"
      ]
     },
     "execution_count": 20,
     "metadata": {},
     "output_type": "execute_result"
    }
   ],
   "source": [
    "import mlflow\n",
    "logged_model = 'runs:/dff923c9e0924e8e968eaed4cab33ee9/model'\n",
    "\n",
    "# Load model as a PyFuncModel.\n",
    "loaded_model = mlflow.pyfunc.load_model(logged_model)\n",
    "\n",
    "# Predict on a Pandas DataFrame.\n",
    "import pandas as pd\n",
    "loaded_model.predict(pd.DataFrame(X_test))"
   ]
  },
  {
   "cell_type": "markdown",
   "id": "8fdd29ef",
   "metadata": {},
   "source": [
    "**Open http://localhost:5000 in the browser, here you will find the recorded experiment**"
   ]
  },
  {
   "cell_type": "markdown",
   "id": "a81bd8e1",
   "metadata": {},
   "source": [
    "### Adding an MLflow Model to the Model Registry\n",
    "Reference: https://www.mlflow.org/docs/latest/model-registry.html\n",
    "\n",
    "There are three programmatic ways to add a model to the registry. \n",
    "First, you can use the mlflow.<model_flavor>.log_model() method. \n",
    "For example, in your code:"
   ]
  },
  {
   "cell_type": "markdown",
   "id": "9a42d321",
   "metadata": {},
   "source": [
    "#### Method 1"
   ]
  },
  {
   "cell_type": "code",
   "execution_count": 21,
   "id": "68bb75a9",
   "metadata": {},
   "outputs": [],
   "source": [
    "def create_exp_and_register_model(experiment_name,run_name,run_metrics,model,confusion_matrix_path = None, \n",
    "                      roc_auc_plot_path = None, run_params=None):\n",
    "    mlflow.set_tracking_uri(\"http://localhost:5000\") \n",
    "    #use above line if you want to use any database like sqlite as backend storage for model else comment this line\n",
    "    mlflow.set_experiment(experiment_name)\n",
    "    with mlflow.start_run(run_name=run_name) as run:\n",
    "        if not run_params == None:\n",
    "            for param in run_params:\n",
    "                mlflow.log_param(param, run_params[param])\n",
    "            \n",
    "        for metric in run_metrics:\n",
    "            mlflow.log_metric(metric, run_metrics[metric])\n",
    "        \n",
    "        if not confusion_matrix_path == None:\n",
    "            mlflow.log_artifact(confusion_matrix_path, 'confusion_materix')\n",
    "            \n",
    "        if not roc_auc_plot_path == None:\n",
    "            mlflow.log_artifact(roc_auc_plot_path, \"roc_auc_plot\")\n",
    "        \n",
    "        mlflow.set_tag(\"tag1\", \"Random Forest\")\n",
    "        mlflow.set_tags({\"tag2\":\"Randomized Search CV\", \"tag3\":\"Production\"})\n",
    "        mlflow.sklearn.log_model(model, \"model\",registered_model_name=\"iris-classifier\")"
   ]
  },
  {
   "cell_type": "markdown",
   "id": "618f1afa",
   "metadata": {},
   "source": [
    "In the above code snippet, if a registered model with the name doesn’t exist, the method registers a new model and creates Version 1. If a registered model with the name exists, the method creates a new model version."
   ]
  },
  {
   "cell_type": "code",
   "execution_count": 22,
   "id": "24ad6273",
   "metadata": {},
   "outputs": [
    {
     "name": "stderr",
     "output_type": "stream",
     "text": [
      "2022/12/05 10:20:48 INFO mlflow.tracking.fluent: Experiment with name 'iris_classifier_method-1' does not exist. Creating a new experiment.\n",
      "Successfully registered model 'iris-classifier'.\n",
      "2022/12/05 10:20:51 INFO mlflow.tracking._model_registry.client: Waiting up to 300 seconds for model version to finish creation.                     Model name: iris-classifier, version 1\n",
      "Created version '1' of model 'iris-classifier'.\n"
     ]
    }
   ],
   "source": [
    "experiment_name = \"iris_classifier_method-1\" #+ str(datetime.now().strftime(\"%d-%m-%y\")) ##basic classifier\n",
    "run_name=\"iris_classifier_method-1\" #+str(datetime.now().strftime(\"%d-%m-%y\"))\n",
    "create_exp_and_register_model(experiment_name,run_name,run_metrics,model,'confusion_matrix.png')"
   ]
  },
  {
   "cell_type": "markdown",
   "id": "3c529fd0",
   "metadata": {},
   "source": [
    "#### Method 2\n",
    "The second way is to use the mlflow.register_model() method, after all your experiment runs complete and when you have decided which model is most suitable to add to the registry. For this method, you will need the run_id as part of the runs:URI argument."
   ]
  },
  {
   "cell_type": "code",
   "execution_count": 23,
   "id": "3d0ebaec",
   "metadata": {},
   "outputs": [
    {
     "name": "stderr",
     "output_type": "stream",
     "text": [
      "Successfully registered model 'iris-classifier-2'.\n",
      "2022/12/05 10:24:15 INFO mlflow.tracking._model_registry.client: Waiting up to 300 seconds for model version to finish creation.                     Model name: iris-classifier-2, version 1\n",
      "Created version '1' of model 'iris-classifier-2'.\n"
     ]
    }
   ],
   "source": [
    "import mlflow\n",
    "with mlflow.start_run(run_name=run_name) as run:\n",
    "    result = mlflow.register_model(\n",
    "        \"runs:/dff923c9e0924e8e968eaed4cab33ee9/model\",\n",
    "        \"iris-classifier-2\"\n",
    "    )"
   ]
  },
  {
   "cell_type": "markdown",
   "id": "0b4e2391",
   "metadata": {},
   "source": [
    "If a registered model with the name doesn’t exist, the method registers a new model, creates Version 1, and returns a ModelVersion MLflow object. If a registered model with the name exists, the method creates a new model version and returns the version object."
   ]
  },
  {
   "cell_type": "markdown",
   "id": "06c2c8cb",
   "metadata": {},
   "source": [
    "#### Method 3\n",
    "And finally, you can use the create_registered_model() to create a new registered model. If the model name exists, this method will throw an MlflowException because creating a new registered model requires a unique name."
   ]
  },
  {
   "cell_type": "code",
   "execution_count": 24,
   "id": "31c47093",
   "metadata": {},
   "outputs": [
    {
     "data": {
      "text/plain": [
       "<RegisteredModel: creation_timestamp=1670216158466, description='', last_updated_timestamp=1670216158466, latest_versions=[], name='basic-classifier-method-3', tags={}>"
      ]
     },
     "execution_count": 24,
     "metadata": {},
     "output_type": "execute_result"
    }
   ],
   "source": [
    "import mlflow\n",
    "client = mlflow.tracking.MlflowClient()\n",
    "client.create_registered_model(\"basic-classifier-method-3\")\n",
    "\n",
    "#While the method above creates an empty registered model with no version associated, "
   ]
  },
  {
   "cell_type": "code",
   "execution_count": 25,
   "id": "d1f8f979",
   "metadata": {},
   "outputs": [
    {
     "name": "stderr",
     "output_type": "stream",
     "text": [
      "2022/12/05 10:27:01 INFO mlflow.tracking._model_registry.client: Waiting up to 300 seconds for model version to finish creation.                     Model name: basic-classifier-method-3, version 1\n"
     ]
    }
   ],
   "source": [
    "#the method below creates a new version of the model.\n",
    "client = mlflow.tracking.MlflowClient()\n",
    "result = client.create_model_version(\n",
    "    name=\"basic-classifier-method-3\",\n",
    "    source=\"dff923c9e0924e8e968eaed4cab33ee9/artifacts/model\",\n",
    "    run_id=\"dff923c9e0924e8e968eaed4cab33ee9\"\n",
    ")"
   ]
  },
  {
   "cell_type": "markdown",
   "id": "3907f50f",
   "metadata": {},
   "source": [
    "### Fetching an MLflow Model from the Model Registry"
   ]
  },
  {
   "cell_type": "markdown",
   "id": "c0869a7d",
   "metadata": {},
   "source": [
    "**Fetch a specific model version**"
   ]
  },
  {
   "cell_type": "code",
   "execution_count": 26,
   "id": "a9032612",
   "metadata": {
    "scrolled": true
   },
   "outputs": [
    {
     "name": "stdout",
     "output_type": "stream",
     "text": [
      "['Iris-setosa' 'Iris-setosa' 'Iris-setosa' 'Iris-setosa' 'Iris-virginica'\n",
      " 'Iris-virginica' 'Iris-versicolor' 'Iris-virginica' 'Iris-versicolor'\n",
      " 'Iris-versicolor' 'Iris-virginica' 'Iris-versicolor' 'Iris-virginica'\n",
      " 'Iris-setosa' 'Iris-setosa' 'Iris-virginica' 'Iris-setosa'\n",
      " 'Iris-versicolor' 'Iris-versicolor' 'Iris-versicolor' 'Iris-versicolor'\n",
      " 'Iris-virginica' 'Iris-virginica' 'Iris-setosa' 'Iris-setosa'\n",
      " 'Iris-virginica' 'Iris-versicolor' 'Iris-setosa' 'Iris-versicolor'\n",
      " 'Iris-virginica' 'Iris-setosa' 'Iris-virginica' 'Iris-setosa'\n",
      " 'Iris-setosa' 'Iris-setosa' 'Iris-setosa' 'Iris-virginica'\n",
      " 'Iris-virginica' 'Iris-virginica' 'Iris-versicolor' 'Iris-versicolor'\n",
      " 'Iris-virginica' 'Iris-virginica' 'Iris-versicolor' 'Iris-versicolor']\n",
      "[[9.60711333e-01 3.92876679e-02 9.99542796e-07]\n",
      " [9.34724656e-01 6.52747435e-02 6.00175464e-07]\n",
      " [9.70976219e-01 2.90235221e-02 2.59059042e-07]\n",
      " [9.54951169e-01 4.50463478e-02 2.48359682e-06]\n",
      " [1.74767542e-04 1.08008426e-01 8.91816806e-01]\n",
      " [1.59375139e-05 8.15780620e-02 9.18406000e-01]\n",
      " [3.56916579e-03 7.13577897e-01 2.82852937e-01]\n",
      " [4.31119002e-04 1.90639264e-01 8.08929617e-01]\n",
      " [8.31833130e-03 8.65308439e-01 1.26373230e-01]\n",
      " [1.95042012e-02 8.41138744e-01 1.39357055e-01]\n",
      " [2.92600763e-05 4.04458191e-02 9.59524921e-01]\n",
      " [7.76674202e-03 8.63213988e-01 1.29019270e-01]\n",
      " [7.45159290e-04 3.66600597e-01 6.32654244e-01]\n",
      " [9.67670071e-01 3.23295820e-02 3.46821583e-07]\n",
      " [9.77121176e-01 2.28786276e-02 1.96866643e-07]\n",
      " [1.69528502e-07 8.50895706e-03 9.91490873e-01]\n",
      " [9.59229087e-01 4.07705570e-02 3.56042358e-07]\n",
      " [1.76260313e-03 6.28524125e-01 3.69713272e-01]\n",
      " [1.09462582e-02 7.09577270e-01 2.79476472e-01]\n",
      " [7.39317994e-03 7.51502851e-01 2.41103969e-01]\n",
      " [1.24078395e-02 6.89893382e-01 2.97698779e-01]\n",
      " [4.05257828e-04 2.82997585e-01 7.16597157e-01]\n",
      " [1.39456786e-04 2.39795991e-01 7.60064552e-01]\n",
      " [9.68947253e-01 3.10523857e-02 3.61454020e-07]\n",
      " [9.39851051e-01 6.01465627e-02 2.38627373e-06]\n",
      " [5.86315039e-06 1.59335684e-02 9.84060568e-01]\n",
      " [6.49201083e-04 5.19484624e-01 4.79866175e-01]\n",
      " [9.75257813e-01 2.47419276e-02 2.59184136e-07]\n",
      " [1.83911317e-03 7.42272320e-01 2.55888567e-01]\n",
      " [9.33396845e-04 4.20264793e-01 5.78801811e-01]\n",
      " [9.76405948e-01 2.35936854e-02 3.66063927e-07]\n",
      " [8.57153849e-05 3.81546003e-02 9.61759684e-01]\n",
      " [9.85827258e-01 1.41725799e-02 1.62161976e-07]\n",
      " [9.81005539e-01 1.89941885e-02 2.72499943e-07]\n",
      " [9.64717439e-01 3.52809871e-02 1.57365334e-06]\n",
      " [9.61553912e-01 3.84456279e-02 4.60099693e-07]\n",
      " [1.39803123e-05 2.68150389e-02 9.73170981e-01]\n",
      " [7.56788327e-04 2.31704099e-01 7.67539113e-01]\n",
      " [1.56797303e-05 2.44383426e-02 9.75545978e-01]\n",
      " [2.55396645e-02 9.01544415e-01 7.29159202e-02]\n",
      " [4.40224705e-02 8.86364066e-01 6.96134634e-02]\n",
      " [2.31598675e-06 3.07021649e-02 9.69295519e-01]\n",
      " [4.09650462e-05 1.45980792e-01 8.53978243e-01]\n",
      " [2.12557408e-02 9.38001581e-01 4.07426780e-02]\n",
      " [3.96522288e-02 9.47648996e-01 1.26987753e-02]]\n"
     ]
    }
   ],
   "source": [
    "import mlflow.pyfunc\n",
    "\n",
    "model_name = \"iris-classifier\"\n",
    "model_version = 1\n",
    "\n",
    "model = mlflow.pyfunc.load_model(\n",
    "    model_uri=f\"models:/{model_name}/{model_version}\"\n",
    ")\n",
    "\n",
    "y_pred = model.predict(X_test)\n",
    "print(y_pred)\n",
    "\n",
    "sklearn_model = mlflow.sklearn.load_model(\n",
    "    model_uri=f\"models:/{model_name}/{model_version}\"\n",
    ")\n",
    "y_pred_prob = sklearn_model.predict_proba(X_test)\n",
    "print(y_pred_prob)"
   ]
  },
  {
   "cell_type": "markdown",
   "id": "d498465d",
   "metadata": {},
   "source": [
    "**Fetch the latest model version in a specific stage**\n",
    "\n",
    "To fetch a model version by stage, simply provide the model stage as part of the model URI, and it will fetch the most recent version of the model in that stage."
   ]
  },
  {
   "cell_type": "markdown",
   "id": "f66a1fbf",
   "metadata": {},
   "source": [
    "#### Transitioning an MLflow Model’s Stage"
   ]
  },
  {
   "cell_type": "code",
   "execution_count": 27,
   "id": "36d41ae0",
   "metadata": {
    "scrolled": true
   },
   "outputs": [
    {
     "data": {
      "text/plain": [
       "<ModelVersion: creation_timestamp=1670215851622, current_stage='Production', description='', last_updated_timestamp=1670216461022, name='iris-classifier', run_id='8b6cfc4a30b84ae3bcbed3bb7875c5b4', run_link='', source='./artifacts/2/8b6cfc4a30b84ae3bcbed3bb7875c5b4/artifacts/model', status='READY', status_message='', tags={}, user_id='', version='1'>"
      ]
     },
     "execution_count": 27,
     "metadata": {},
     "output_type": "execute_result"
    }
   ],
   "source": [
    "client = mlflow.tracking.MlflowClient()\n",
    "client.transition_model_version_stage(\n",
    "    name=\"iris-classifier\",\n",
    "    version=1,\n",
    "    stage=\"Production\"\n",
    ")"
   ]
  },
  {
   "cell_type": "code",
   "execution_count": 28,
   "id": "5bf497b2",
   "metadata": {},
   "outputs": [
    {
     "name": "stdout",
     "output_type": "stream",
     "text": [
      "['Iris-setosa' 'Iris-setosa' 'Iris-setosa' 'Iris-setosa' 'Iris-virginica'\n",
      " 'Iris-virginica' 'Iris-versicolor' 'Iris-virginica' 'Iris-versicolor'\n",
      " 'Iris-versicolor' 'Iris-virginica' 'Iris-versicolor' 'Iris-virginica'\n",
      " 'Iris-setosa' 'Iris-setosa' 'Iris-virginica' 'Iris-setosa'\n",
      " 'Iris-versicolor' 'Iris-versicolor' 'Iris-versicolor' 'Iris-versicolor'\n",
      " 'Iris-virginica' 'Iris-virginica' 'Iris-setosa' 'Iris-setosa'\n",
      " 'Iris-virginica' 'Iris-versicolor' 'Iris-setosa' 'Iris-versicolor'\n",
      " 'Iris-virginica' 'Iris-setosa' 'Iris-virginica' 'Iris-setosa'\n",
      " 'Iris-setosa' 'Iris-setosa' 'Iris-setosa' 'Iris-virginica'\n",
      " 'Iris-virginica' 'Iris-virginica' 'Iris-versicolor' 'Iris-versicolor'\n",
      " 'Iris-virginica' 'Iris-virginica' 'Iris-versicolor' 'Iris-versicolor']\n"
     ]
    }
   ],
   "source": [
    "import mlflow.pyfunc\n",
    "\n",
    "model_name = \"iris-classifier\"\n",
    "stage = 'Production'\n",
    "\n",
    "model = mlflow.pyfunc.load_model(\n",
    "    model_uri=f\"models:/{model_name}/{stage}\"\n",
    ")\n",
    "\n",
    "y_pred = model.predict(X_test)\n",
    "print(y_pred)"
   ]
  },
  {
   "cell_type": "code",
   "execution_count": 30,
   "id": "2a4d1f43",
   "metadata": {},
   "outputs": [
    {
     "name": "stdout",
     "output_type": "stream",
     "text": [
      "['Iris-virginica']\n",
      "[[2.92600763e-05 4.04458191e-02 9.59524921e-01]]\n"
     ]
    },
    {
     "name": "stderr",
     "output_type": "stream",
     "text": [
      "C:\\Users\\Ashutosh Tripathi\\anaconda3\\envs\\mlflow2.0\\lib\\site-packages\\sklearn\\base.py:450: UserWarning: X does not have valid feature names, but LogisticRegression was fitted with feature names\n",
      "  warnings.warn(\n",
      "C:\\Users\\Ashutosh Tripathi\\anaconda3\\envs\\mlflow2.0\\lib\\site-packages\\sklearn\\base.py:450: UserWarning: X does not have valid feature names, but LogisticRegression was fitted with feature names\n",
      "  warnings.warn(\n"
     ]
    }
   ],
   "source": [
    "import mlflow.pyfunc\n",
    "\n",
    "model_name = \"iris-classifier\"\n",
    "stage = 'Production'\n",
    "\n",
    "model = mlflow.sklearn.load_model(\n",
    "    model_uri=f\"models:/{model_name}/{stage}\"\n",
    ")\n",
    "\n",
    "y_pred = model.predict([[6.7,3.3,5.7,2.1]])\n",
    "print(y_pred)\n",
    "y_pred_prob = model.predict_proba([[6.7,3.3,5.7,2.1]])\n",
    "print(y_pred_prob)"
   ]
  },
  {
   "cell_type": "markdown",
   "id": "4b462895",
   "metadata": {},
   "source": [
    "### Serving an MLflow Model from Model Registry"
   ]
  },
  {
   "cell_type": "code",
   "execution_count": 31,
   "id": "91eb4ade",
   "metadata": {},
   "outputs": [],
   "source": [
    "mlflow.set_tracking_uri('http://localhost:5000')"
   ]
  },
  {
   "cell_type": "markdown",
   "id": "e26a7809",
   "metadata": {},
   "source": [
    "**Run this from command line**\n",
    "`set MLFLOW_TRACKING_URI=http://localhost:5000` #use export MLFLOW_TRACKING_URI=http://localhost:5000 if in linux"
   ]
  },
  {
   "cell_type": "markdown",
   "id": "37e7f1a2",
   "metadata": {},
   "source": [
    "<img src='env variable.png'>"
   ]
  },
  {
   "cell_type": "markdown",
   "id": "8034a2ff",
   "metadata": {},
   "source": [
    "## **Now run this command from command line**\n",
    "\n",
    "make sure to write the different port - other than the one you used while starting mlflow server\n",
    "\n",
    "`mlflow models serve --model-uri models:/iris-classifier/Production -p 1234 --no-conda`\n",
    "\n"
   ]
  },
  {
   "cell_type": "markdown",
   "id": "ce3d00cb",
   "metadata": {},
   "source": [
    "### Do Prediction"
   ]
  },
  {
   "cell_type": "code",
   "execution_count": 19,
   "id": "a745b565",
   "metadata": {},
   "outputs": [
    {
     "name": "stdout",
     "output_type": "stream",
     "text": [
      "{\"predictions\": [\"Iris-virginica\"]}\n"
     ]
    }
   ],
   "source": [
    "import requests\n",
    "\n",
    "inference_request = {\n",
    "        \"dataframe_records\": [[6.7,3.3,5.7,2.1]]\n",
    "}\n",
    "\n",
    "endpoint = \"http://localhost:1234/invocations\"\n",
    "\n",
    "response = requests.post(endpoint, json=inference_request)\n",
    "\n",
    "print(response.text)"
   ]
  },
  {
   "cell_type": "markdown",
   "id": "9561d908",
   "metadata": {},
   "source": [
    "### Batch Prediction"
   ]
  },
  {
   "cell_type": "code",
   "execution_count": 20,
   "id": "5e447c4b",
   "metadata": {
    "scrolled": true
   },
   "outputs": [
    {
     "data": {
      "text/html": [
       "<div>\n",
       "<style scoped>\n",
       "    .dataframe tbody tr th:only-of-type {\n",
       "        vertical-align: middle;\n",
       "    }\n",
       "\n",
       "    .dataframe tbody tr th {\n",
       "        vertical-align: top;\n",
       "    }\n",
       "\n",
       "    .dataframe thead th {\n",
       "        text-align: right;\n",
       "    }\n",
       "</style>\n",
       "<table border=\"1\" class=\"dataframe\">\n",
       "  <thead>\n",
       "    <tr style=\"text-align: right;\">\n",
       "      <th></th>\n",
       "      <th>sepal-length</th>\n",
       "      <th>sepal-width</th>\n",
       "      <th>petal-length</th>\n",
       "      <th>petal-width</th>\n",
       "    </tr>\n",
       "  </thead>\n",
       "  <tbody>\n",
       "    <tr>\n",
       "      <th>26</th>\n",
       "      <td>5.0</td>\n",
       "      <td>3.4</td>\n",
       "      <td>1.6</td>\n",
       "      <td>0.4</td>\n",
       "    </tr>\n",
       "    <tr>\n",
       "      <th>41</th>\n",
       "      <td>4.5</td>\n",
       "      <td>2.3</td>\n",
       "      <td>1.3</td>\n",
       "      <td>0.3</td>\n",
       "    </tr>\n",
       "    <tr>\n",
       "      <th>49</th>\n",
       "      <td>5.0</td>\n",
       "      <td>3.3</td>\n",
       "      <td>1.4</td>\n",
       "      <td>0.2</td>\n",
       "    </tr>\n",
       "    <tr>\n",
       "      <th>44</th>\n",
       "      <td>5.1</td>\n",
       "      <td>3.8</td>\n",
       "      <td>1.9</td>\n",
       "      <td>0.4</td>\n",
       "    </tr>\n",
       "    <tr>\n",
       "      <th>141</th>\n",
       "      <td>6.9</td>\n",
       "      <td>3.1</td>\n",
       "      <td>5.1</td>\n",
       "      <td>2.3</td>\n",
       "    </tr>\n",
       "    <tr>\n",
       "      <th>108</th>\n",
       "      <td>6.7</td>\n",
       "      <td>2.5</td>\n",
       "      <td>5.8</td>\n",
       "      <td>1.8</td>\n",
       "    </tr>\n",
       "    <tr>\n",
       "      <th>86</th>\n",
       "      <td>6.7</td>\n",
       "      <td>3.1</td>\n",
       "      <td>4.7</td>\n",
       "      <td>1.5</td>\n",
       "    </tr>\n",
       "    <tr>\n",
       "      <th>142</th>\n",
       "      <td>5.8</td>\n",
       "      <td>2.7</td>\n",
       "      <td>5.1</td>\n",
       "      <td>1.9</td>\n",
       "    </tr>\n",
       "    <tr>\n",
       "      <th>65</th>\n",
       "      <td>6.7</td>\n",
       "      <td>3.1</td>\n",
       "      <td>4.4</td>\n",
       "      <td>1.4</td>\n",
       "    </tr>\n",
       "    <tr>\n",
       "      <th>61</th>\n",
       "      <td>5.9</td>\n",
       "      <td>3.0</td>\n",
       "      <td>4.2</td>\n",
       "      <td>1.5</td>\n",
       "    </tr>\n",
       "    <tr>\n",
       "      <th>124</th>\n",
       "      <td>6.7</td>\n",
       "      <td>3.3</td>\n",
       "      <td>5.7</td>\n",
       "      <td>2.1</td>\n",
       "    </tr>\n",
       "    <tr>\n",
       "      <th>75</th>\n",
       "      <td>6.6</td>\n",
       "      <td>3.0</td>\n",
       "      <td>4.4</td>\n",
       "      <td>1.4</td>\n",
       "    </tr>\n",
       "    <tr>\n",
       "      <th>83</th>\n",
       "      <td>6.0</td>\n",
       "      <td>2.7</td>\n",
       "      <td>5.1</td>\n",
       "      <td>1.6</td>\n",
       "    </tr>\n",
       "    <tr>\n",
       "      <th>8</th>\n",
       "      <td>4.4</td>\n",
       "      <td>2.9</td>\n",
       "      <td>1.4</td>\n",
       "      <td>0.2</td>\n",
       "    </tr>\n",
       "    <tr>\n",
       "      <th>38</th>\n",
       "      <td>4.4</td>\n",
       "      <td>3.0</td>\n",
       "      <td>1.3</td>\n",
       "      <td>0.2</td>\n",
       "    </tr>\n",
       "    <tr>\n",
       "      <th>122</th>\n",
       "      <td>7.7</td>\n",
       "      <td>2.8</td>\n",
       "      <td>6.7</td>\n",
       "      <td>2.0</td>\n",
       "    </tr>\n",
       "    <tr>\n",
       "      <th>1</th>\n",
       "      <td>4.9</td>\n",
       "      <td>3.0</td>\n",
       "      <td>1.4</td>\n",
       "      <td>0.2</td>\n",
       "    </tr>\n",
       "    <tr>\n",
       "      <th>52</th>\n",
       "      <td>6.9</td>\n",
       "      <td>3.1</td>\n",
       "      <td>4.9</td>\n",
       "      <td>1.5</td>\n",
       "    </tr>\n",
       "    <tr>\n",
       "      <th>66</th>\n",
       "      <td>5.6</td>\n",
       "      <td>3.0</td>\n",
       "      <td>4.5</td>\n",
       "      <td>1.5</td>\n",
       "    </tr>\n",
       "    <tr>\n",
       "      <th>78</th>\n",
       "      <td>6.0</td>\n",
       "      <td>2.9</td>\n",
       "      <td>4.5</td>\n",
       "      <td>1.5</td>\n",
       "    </tr>\n",
       "    <tr>\n",
       "      <th>84</th>\n",
       "      <td>5.4</td>\n",
       "      <td>3.0</td>\n",
       "      <td>4.5</td>\n",
       "      <td>1.5</td>\n",
       "    </tr>\n",
       "    <tr>\n",
       "      <th>146</th>\n",
       "      <td>6.3</td>\n",
       "      <td>2.5</td>\n",
       "      <td>5.0</td>\n",
       "      <td>1.9</td>\n",
       "    </tr>\n",
       "    <tr>\n",
       "      <th>134</th>\n",
       "      <td>6.1</td>\n",
       "      <td>2.6</td>\n",
       "      <td>5.6</td>\n",
       "      <td>1.4</td>\n",
       "    </tr>\n",
       "    <tr>\n",
       "      <th>7</th>\n",
       "      <td>5.0</td>\n",
       "      <td>3.4</td>\n",
       "      <td>1.5</td>\n",
       "      <td>0.2</td>\n",
       "    </tr>\n",
       "    <tr>\n",
       "      <th>23</th>\n",
       "      <td>5.1</td>\n",
       "      <td>3.3</td>\n",
       "      <td>1.7</td>\n",
       "      <td>0.5</td>\n",
       "    </tr>\n",
       "    <tr>\n",
       "      <th>143</th>\n",
       "      <td>6.8</td>\n",
       "      <td>3.2</td>\n",
       "      <td>5.9</td>\n",
       "      <td>2.3</td>\n",
       "    </tr>\n",
       "    <tr>\n",
       "      <th>119</th>\n",
       "      <td>6.0</td>\n",
       "      <td>2.2</td>\n",
       "      <td>5.0</td>\n",
       "      <td>1.5</td>\n",
       "    </tr>\n",
       "    <tr>\n",
       "      <th>47</th>\n",
       "      <td>4.6</td>\n",
       "      <td>3.2</td>\n",
       "      <td>1.4</td>\n",
       "      <td>0.2</td>\n",
       "    </tr>\n",
       "    <tr>\n",
       "      <th>76</th>\n",
       "      <td>6.8</td>\n",
       "      <td>2.8</td>\n",
       "      <td>4.8</td>\n",
       "      <td>1.4</td>\n",
       "    </tr>\n",
       "    <tr>\n",
       "      <th>77</th>\n",
       "      <td>6.7</td>\n",
       "      <td>3.0</td>\n",
       "      <td>5.0</td>\n",
       "      <td>1.7</td>\n",
       "    </tr>\n",
       "    <tr>\n",
       "      <th>46</th>\n",
       "      <td>5.1</td>\n",
       "      <td>3.8</td>\n",
       "      <td>1.6</td>\n",
       "      <td>0.2</td>\n",
       "    </tr>\n",
       "    <tr>\n",
       "      <th>148</th>\n",
       "      <td>6.2</td>\n",
       "      <td>3.4</td>\n",
       "      <td>5.4</td>\n",
       "      <td>2.3</td>\n",
       "    </tr>\n",
       "    <tr>\n",
       "      <th>16</th>\n",
       "      <td>5.4</td>\n",
       "      <td>3.9</td>\n",
       "      <td>1.3</td>\n",
       "      <td>0.4</td>\n",
       "    </tr>\n",
       "    <tr>\n",
       "      <th>6</th>\n",
       "      <td>4.6</td>\n",
       "      <td>3.4</td>\n",
       "      <td>1.4</td>\n",
       "      <td>0.3</td>\n",
       "    </tr>\n",
       "    <tr>\n",
       "      <th>43</th>\n",
       "      <td>5.0</td>\n",
       "      <td>3.5</td>\n",
       "      <td>1.6</td>\n",
       "      <td>0.6</td>\n",
       "    </tr>\n",
       "    <tr>\n",
       "      <th>45</th>\n",
       "      <td>4.8</td>\n",
       "      <td>3.0</td>\n",
       "      <td>1.4</td>\n",
       "      <td>0.3</td>\n",
       "    </tr>\n",
       "    <tr>\n",
       "      <th>120</th>\n",
       "      <td>6.9</td>\n",
       "      <td>3.2</td>\n",
       "      <td>5.7</td>\n",
       "      <td>2.3</td>\n",
       "    </tr>\n",
       "    <tr>\n",
       "      <th>149</th>\n",
       "      <td>5.9</td>\n",
       "      <td>3.0</td>\n",
       "      <td>5.1</td>\n",
       "      <td>1.8</td>\n",
       "    </tr>\n",
       "    <tr>\n",
       "      <th>140</th>\n",
       "      <td>6.7</td>\n",
       "      <td>3.1</td>\n",
       "      <td>5.6</td>\n",
       "      <td>2.4</td>\n",
       "    </tr>\n",
       "    <tr>\n",
       "      <th>95</th>\n",
       "      <td>5.7</td>\n",
       "      <td>3.0</td>\n",
       "      <td>4.2</td>\n",
       "      <td>1.2</td>\n",
       "    </tr>\n",
       "    <tr>\n",
       "      <th>59</th>\n",
       "      <td>5.2</td>\n",
       "      <td>2.7</td>\n",
       "      <td>3.9</td>\n",
       "      <td>1.4</td>\n",
       "    </tr>\n",
       "    <tr>\n",
       "      <th>107</th>\n",
       "      <td>7.3</td>\n",
       "      <td>2.9</td>\n",
       "      <td>6.3</td>\n",
       "      <td>1.8</td>\n",
       "    </tr>\n",
       "    <tr>\n",
       "      <th>129</th>\n",
       "      <td>7.2</td>\n",
       "      <td>3.0</td>\n",
       "      <td>5.8</td>\n",
       "      <td>1.6</td>\n",
       "    </tr>\n",
       "    <tr>\n",
       "      <th>92</th>\n",
       "      <td>5.8</td>\n",
       "      <td>2.6</td>\n",
       "      <td>4.0</td>\n",
       "      <td>1.2</td>\n",
       "    </tr>\n",
       "    <tr>\n",
       "      <th>81</th>\n",
       "      <td>5.5</td>\n",
       "      <td>2.4</td>\n",
       "      <td>3.7</td>\n",
       "      <td>1.0</td>\n",
       "    </tr>\n",
       "  </tbody>\n",
       "</table>\n",
       "</div>"
      ],
      "text/plain": [
       "     sepal-length  sepal-width  petal-length  petal-width\n",
       "26            5.0          3.4           1.6          0.4\n",
       "41            4.5          2.3           1.3          0.3\n",
       "49            5.0          3.3           1.4          0.2\n",
       "44            5.1          3.8           1.9          0.4\n",
       "141           6.9          3.1           5.1          2.3\n",
       "108           6.7          2.5           5.8          1.8\n",
       "86            6.7          3.1           4.7          1.5\n",
       "142           5.8          2.7           5.1          1.9\n",
       "65            6.7          3.1           4.4          1.4\n",
       "61            5.9          3.0           4.2          1.5\n",
       "124           6.7          3.3           5.7          2.1\n",
       "75            6.6          3.0           4.4          1.4\n",
       "83            6.0          2.7           5.1          1.6\n",
       "8             4.4          2.9           1.4          0.2\n",
       "38            4.4          3.0           1.3          0.2\n",
       "122           7.7          2.8           6.7          2.0\n",
       "1             4.9          3.0           1.4          0.2\n",
       "52            6.9          3.1           4.9          1.5\n",
       "66            5.6          3.0           4.5          1.5\n",
       "78            6.0          2.9           4.5          1.5\n",
       "84            5.4          3.0           4.5          1.5\n",
       "146           6.3          2.5           5.0          1.9\n",
       "134           6.1          2.6           5.6          1.4\n",
       "7             5.0          3.4           1.5          0.2\n",
       "23            5.1          3.3           1.7          0.5\n",
       "143           6.8          3.2           5.9          2.3\n",
       "119           6.0          2.2           5.0          1.5\n",
       "47            4.6          3.2           1.4          0.2\n",
       "76            6.8          2.8           4.8          1.4\n",
       "77            6.7          3.0           5.0          1.7\n",
       "46            5.1          3.8           1.6          0.2\n",
       "148           6.2          3.4           5.4          2.3\n",
       "16            5.4          3.9           1.3          0.4\n",
       "6             4.6          3.4           1.4          0.3\n",
       "43            5.0          3.5           1.6          0.6\n",
       "45            4.8          3.0           1.4          0.3\n",
       "120           6.9          3.2           5.7          2.3\n",
       "149           5.9          3.0           5.1          1.8\n",
       "140           6.7          3.1           5.6          2.4\n",
       "95            5.7          3.0           4.2          1.2\n",
       "59            5.2          2.7           3.9          1.4\n",
       "107           7.3          2.9           6.3          1.8\n",
       "129           7.2          3.0           5.8          1.6\n",
       "92            5.8          2.6           4.0          1.2\n",
       "81            5.5          2.4           3.7          1.0"
      ]
     },
     "execution_count": 20,
     "metadata": {},
     "output_type": "execute_result"
    }
   ],
   "source": [
    "X_test"
   ]
  },
  {
   "cell_type": "code",
   "execution_count": 19,
   "id": "ce7002b4",
   "metadata": {},
   "outputs": [
    {
     "name": "stdout",
     "output_type": "stream",
     "text": [
      "<Response [200]>\n"
     ]
    }
   ],
   "source": [
    "import requests\n",
    "lst = X_test.values.tolist()\n",
    "inference_request = {\n",
    "        \"dataframe_records\": lst\n",
    "}\n",
    "endpoint = \"http://localhost:1234/invocations\"\n",
    "response = requests.post(endpoint, json=inference_request)\n",
    "print(response)"
   ]
  },
  {
   "cell_type": "code",
   "execution_count": 20,
   "id": "7a925371",
   "metadata": {},
   "outputs": [
    {
     "name": "stdout",
     "output_type": "stream",
     "text": [
      "{\"predictions\": [\"Iris-setosa\", \"Iris-setosa\", \"Iris-setosa\", \"Iris-setosa\", \"Iris-virginica\", \"Iris-virginica\", \"Iris-versicolor\", \"Iris-virginica\", \"Iris-versicolor\", \"Iris-versicolor\", \"Iris-virginica\", \"Iris-versicolor\", \"Iris-virginica\", \"Iris-setosa\", \"Iris-setosa\", \"Iris-virginica\", \"Iris-setosa\", \"Iris-versicolor\", \"Iris-versicolor\", \"Iris-versicolor\", \"Iris-versicolor\", \"Iris-virginica\", \"Iris-virginica\", \"Iris-setosa\", \"Iris-setosa\", \"Iris-virginica\", \"Iris-versicolor\", \"Iris-setosa\", \"Iris-versicolor\", \"Iris-virginica\", \"Iris-setosa\", \"Iris-virginica\", \"Iris-setosa\", \"Iris-setosa\", \"Iris-setosa\", \"Iris-setosa\", \"Iris-virginica\", \"Iris-virginica\", \"Iris-virginica\", \"Iris-versicolor\", \"Iris-versicolor\", \"Iris-virginica\", \"Iris-virginica\", \"Iris-versicolor\", \"Iris-versicolor\"]}\n"
     ]
    }
   ],
   "source": [
    "print(response.text)"
   ]
  },
  {
   "cell_type": "markdown",
   "id": "f115d4f2",
   "metadata": {},
   "source": [
    "## Thank You\n",
    "\n",
    "### Next Steps:\n",
    "\n",
    "1. Deploy Model using Python Flask and expose end points\n",
    "2. Deploy Model using FastAPI"
   ]
  },
  {
   "cell_type": "code",
   "execution_count": null,
   "id": "b5e3a021",
   "metadata": {},
   "outputs": [],
   "source": []
  }
 ],
 "metadata": {
  "kernelspec": {
   "display_name": "mlflow2.0",
   "language": "python",
   "name": "mlflow2.0"
  },
  "language_info": {
   "codemirror_mode": {
    "name": "ipython",
    "version": 3
   },
   "file_extension": ".py",
   "mimetype": "text/x-python",
   "name": "python",
   "nbconvert_exporter": "python",
   "pygments_lexer": "ipython3",
   "version": "3.9.15"
  }
 },
 "nbformat": 4,
 "nbformat_minor": 5
}
